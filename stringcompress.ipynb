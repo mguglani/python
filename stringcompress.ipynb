{
 "cells": [
  {
   "cell_type": "code",
   "execution_count": 15,
   "metadata": {},
   "outputs": [],
   "source": [
    "def stringCompress(inputString):\n",
    "    outputString = \"\"\n",
    "    nextIndex = 1\n",
    "    charCount = 1\n",
    "    inputLen = len(inputString)\n",
    "    \n",
    "    if inputLen == 0:\n",
    "        return inputString\n",
    "    \n",
    "    repeatChar = inputString[0]\n",
    "    \n",
    "    while True:\n",
    "        while nextIndex < inputLen and inputString[nextIndex] == repeatChar:\n",
    "            charCount +=1\n",
    "            nextIndex +=1\n",
    "        outputString += repeatChar\n",
    "        outputString += str(charCount)\n",
    "        if nextIndex >= inputLen:\n",
    "            break\n",
    "        charCount = 1\n",
    "        repeatChar = inputString[nextIndex]\n",
    "        nextIndex += 1\n",
    "        \n",
    "    print(outputString)\n",
    "    \n",
    "    if len(outputString) >= inputLen:\n",
    "        return inputString\n",
    "    else:\n",
    "        return outputString\n"
   ]
  },
  {
   "cell_type": "code",
   "execution_count": 16,
   "metadata": {},
   "outputs": [
    {
     "name": "stdout",
     "output_type": "stream",
     "text": [
      "a6\n"
     ]
    },
    {
     "data": {
      "text/plain": [
       "'a6'"
      ]
     },
     "execution_count": 16,
     "metadata": {},
     "output_type": "execute_result"
    }
   ],
   "source": [
    "stringCompress(\"aaaaaa\")"
   ]
  },
  {
   "cell_type": "code",
   "execution_count": 17,
   "metadata": {},
   "outputs": [
    {
     "name": "stdout",
     "output_type": "stream",
     "text": [
      "a1\n"
     ]
    },
    {
     "data": {
      "text/plain": [
       "'a'"
      ]
     },
     "execution_count": 17,
     "metadata": {},
     "output_type": "execute_result"
    }
   ],
   "source": [
    "stringCompress(\"a\")"
   ]
  },
  {
   "cell_type": "code",
   "execution_count": 18,
   "metadata": {},
   "outputs": [
    {
     "name": "stdout",
     "output_type": "stream",
     "text": [
      "a2b1c5a3\n"
     ]
    },
    {
     "data": {
      "text/plain": [
       "'a2b1c5a3'"
      ]
     },
     "execution_count": 18,
     "metadata": {},
     "output_type": "execute_result"
    }
   ],
   "source": [
    "stringCompress(\"aabcccccaaa\")"
   ]
  },
  {
   "cell_type": "code",
   "execution_count": 14,
   "metadata": {},
   "outputs": [
    {
     "name": "stdout",
     "output_type": "stream",
     "text": [
      "a1b1c1a2\n"
     ]
    },
    {
     "data": {
      "text/plain": [
       "'abcaa'"
      ]
     },
     "execution_count": 14,
     "metadata": {},
     "output_type": "execute_result"
    }
   ],
   "source": [
    "stringCompress(\"abcaa\")"
   ]
  },
  {
   "cell_type": "code",
   "execution_count": null,
   "metadata": {},
   "outputs": [],
   "source": []
  }
 ],
 "metadata": {
  "kernelspec": {
   "display_name": "Python 3",
   "language": "python",
   "name": "python3"
  },
  "language_info": {
   "codemirror_mode": {
    "name": "ipython",
    "version": 3
   },
   "file_extension": ".py",
   "mimetype": "text/x-python",
   "name": "python",
   "nbconvert_exporter": "python",
   "pygments_lexer": "ipython3",
   "version": "3.6.7"
  }
 },
 "nbformat": 4,
 "nbformat_minor": 2
}
