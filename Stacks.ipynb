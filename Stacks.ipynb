{
 "cells": [
  {
   "cell_type": "code",
   "execution_count": 81,
   "metadata": {},
   "outputs": [],
   "source": [
    "class myStack:\n",
    "    class _stackNode:\n",
    "        def setval(self, value, nextNode=None):\n",
    "            self.value = value\n",
    "            self.nextNode = nextNode\n",
    "    \n",
    "    top = None\n",
    "    \n",
    "    def pop(self):\n",
    "        print(myStack.top)\n",
    "        if myStack.top is None:\n",
    "            raise ValueError(\"Stack is empty\")\n",
    "        data = myStack.top.value\n",
    "        myStack.top = myStack.top.nextNode\n",
    "        return data\n",
    "    \n",
    "    def push(self, data):\n",
    "        t = myStack._stackNode()\n",
    "        t.setval(data)\n",
    "        t.nextNode = myStack.top\n",
    "        myStack.top = t\n",
    "        \n",
    "    def peek(self):\n",
    "        if myStack.top is None:\n",
    "            raise ValueError(\"Stack is empty\")\n",
    "        return myStack.top.value\n",
    "    \n",
    "    def isEmpty(self):\n",
    "        return myStack.top == None"
   ]
  },
  {
   "cell_type": "code",
   "execution_count": 82,
   "metadata": {},
   "outputs": [],
   "source": [
    "newStack = myStack()"
   ]
  },
  {
   "cell_type": "code",
   "execution_count": 83,
   "metadata": {},
   "outputs": [],
   "source": [
    "newStack.push(8)\n",
    "newStack.push(9)\n",
    "newStack.push(10)\n",
    "newStack.push(11)"
   ]
  },
  {
   "cell_type": "code",
   "execution_count": 84,
   "metadata": {},
   "outputs": [
    {
     "name": "stdout",
     "output_type": "stream",
     "text": [
      "8\n"
     ]
    }
   ],
   "source": [
    "print(newStack.top.nextNode.nextNode.nextNode.value)"
   ]
  },
  {
   "cell_type": "code",
   "execution_count": 85,
   "metadata": {},
   "outputs": [
    {
     "name": "stdout",
     "output_type": "stream",
     "text": [
      "<__main__.myStack._stackNode object at 0x7fcbb9285400>\n",
      "<__main__.myStack._stackNode object at 0x7fcbb9285ba8>\n"
     ]
    },
    {
     "data": {
      "text/plain": [
       "10"
      ]
     },
     "execution_count": 85,
     "metadata": {},
     "output_type": "execute_result"
    }
   ],
   "source": [
    "newStack.pop()\n",
    "newStack.pop()"
   ]
  },
  {
   "cell_type": "code",
   "execution_count": 86,
   "metadata": {},
   "outputs": [
    {
     "name": "stdout",
     "output_type": "stream",
     "text": [
      "<__main__.myStack._stackNode object at 0x7fcbb9285b38>\n"
     ]
    },
    {
     "data": {
      "text/plain": [
       "9"
      ]
     },
     "execution_count": 86,
     "metadata": {},
     "output_type": "execute_result"
    }
   ],
   "source": [
    "newStack.pop()"
   ]
  },
  {
   "cell_type": "code",
   "execution_count": 87,
   "metadata": {},
   "outputs": [
    {
     "name": "stdout",
     "output_type": "stream",
     "text": [
      "<__main__.myStack._stackNode object at 0x7fcbb9285278>\n"
     ]
    },
    {
     "data": {
      "text/plain": [
       "8"
      ]
     },
     "execution_count": 87,
     "metadata": {},
     "output_type": "execute_result"
    }
   ],
   "source": [
    "newStack.pop()"
   ]
  },
  {
   "cell_type": "code",
   "execution_count": 88,
   "metadata": {},
   "outputs": [
    {
     "name": "stdout",
     "output_type": "stream",
     "text": [
      "None\n"
     ]
    },
    {
     "ename": "ValueError",
     "evalue": "Stack is empty",
     "output_type": "error",
     "traceback": [
      "\u001b[0;31m---------------------------------------------------------------------------\u001b[0m",
      "\u001b[0;31mValueError\u001b[0m                                Traceback (most recent call last)",
      "\u001b[0;32m<ipython-input-88-fb6e06243310>\u001b[0m in \u001b[0;36m<module>\u001b[0;34m\u001b[0m\n\u001b[0;32m----> 1\u001b[0;31m \u001b[0mnewStack\u001b[0m\u001b[0;34m.\u001b[0m\u001b[0mpop\u001b[0m\u001b[0;34m(\u001b[0m\u001b[0;34m)\u001b[0m\u001b[0;34m\u001b[0m\u001b[0;34m\u001b[0m\u001b[0m\n\u001b[0m",
      "\u001b[0;32m<ipython-input-81-cb86d1dbb7bd>\u001b[0m in \u001b[0;36mpop\u001b[0;34m(self)\u001b[0m\n\u001b[1;32m     10\u001b[0m         \u001b[0mprint\u001b[0m\u001b[0;34m(\u001b[0m\u001b[0mmyStack\u001b[0m\u001b[0;34m.\u001b[0m\u001b[0mtop\u001b[0m\u001b[0;34m)\u001b[0m\u001b[0;34m\u001b[0m\u001b[0;34m\u001b[0m\u001b[0m\n\u001b[1;32m     11\u001b[0m         \u001b[0;32mif\u001b[0m \u001b[0mmyStack\u001b[0m\u001b[0;34m.\u001b[0m\u001b[0mtop\u001b[0m \u001b[0;32mis\u001b[0m \u001b[0;32mNone\u001b[0m\u001b[0;34m:\u001b[0m\u001b[0;34m\u001b[0m\u001b[0;34m\u001b[0m\u001b[0m\n\u001b[0;32m---> 12\u001b[0;31m             \u001b[0;32mraise\u001b[0m \u001b[0mValueError\u001b[0m\u001b[0;34m(\u001b[0m\u001b[0;34m\"Stack is empty\"\u001b[0m\u001b[0;34m)\u001b[0m\u001b[0;34m\u001b[0m\u001b[0;34m\u001b[0m\u001b[0m\n\u001b[0m\u001b[1;32m     13\u001b[0m         \u001b[0mdata\u001b[0m \u001b[0;34m=\u001b[0m \u001b[0mmyStack\u001b[0m\u001b[0;34m.\u001b[0m\u001b[0mtop\u001b[0m\u001b[0;34m.\u001b[0m\u001b[0mvalue\u001b[0m\u001b[0;34m\u001b[0m\u001b[0;34m\u001b[0m\u001b[0m\n\u001b[1;32m     14\u001b[0m         \u001b[0mmyStack\u001b[0m\u001b[0;34m.\u001b[0m\u001b[0mtop\u001b[0m \u001b[0;34m=\u001b[0m \u001b[0mmyStack\u001b[0m\u001b[0;34m.\u001b[0m\u001b[0mtop\u001b[0m\u001b[0;34m.\u001b[0m\u001b[0mnextNode\u001b[0m\u001b[0;34m\u001b[0m\u001b[0;34m\u001b[0m\u001b[0m\n",
      "\u001b[0;31mValueError\u001b[0m: Stack is empty"
     ]
    }
   ],
   "source": [
    "newStack.pop()"
   ]
  },
  {
   "cell_type": "code",
   "execution_count": 89,
   "metadata": {},
   "outputs": [],
   "source": [
    "newStack.push(8)"
   ]
  },
  {
   "cell_type": "code",
   "execution_count": 90,
   "metadata": {},
   "outputs": [
    {
     "data": {
      "text/plain": [
       "8"
      ]
     },
     "execution_count": 90,
     "metadata": {},
     "output_type": "execute_result"
    }
   ],
   "source": [
    "newStack.peek()"
   ]
  },
  {
   "cell_type": "code",
   "execution_count": 91,
   "metadata": {},
   "outputs": [],
   "source": [
    "newStack.push(10)"
   ]
  },
  {
   "cell_type": "code",
   "execution_count": 92,
   "metadata": {},
   "outputs": [
    {
     "data": {
      "text/plain": [
       "10"
      ]
     },
     "execution_count": 92,
     "metadata": {},
     "output_type": "execute_result"
    }
   ],
   "source": [
    "newStack.peek()"
   ]
  },
  {
   "cell_type": "code",
   "execution_count": 39,
   "metadata": {},
   "outputs": [],
   "source": [
    "class myStackMin:\n",
    "    class _stackNode:\n",
    "        def setval(self, value, nextNode=None):\n",
    "            self.value = value\n",
    "            self.nextNode = nextNode\n",
    "    \n",
    "    top = None\n",
    "    minVal = None\n",
    "    \n",
    "    def pop(self):\n",
    "        print(myStackMin.top)\n",
    "        if myStackMin.top is None:\n",
    "            raise ValueError(\"Stack is empty\")\n",
    "        data = myStackMin.top.value\n",
    "        if myStackMin.minVal == myStackMin.top:\n",
    "            myStackMin.assignNewMin()\n",
    "        myStackMin.top = myStackMin.top.nextNode\n",
    "        return data\n",
    "    \n",
    "    def updateMinVal(top):\n",
    "        print(myStackMin.minVal)\n",
    "        if myStackMin.minVal is None:\n",
    "            print(\"updated minimum to\", top.value)\n",
    "            myStackMin.minVal = top\n",
    "        elif myStackMin.minVal.value > top.value:\n",
    "            print(\"updated minimum to\", top.value)\n",
    "            myStackMin.minVal = myStackMin.top\n",
    "            \n",
    "    def push(self, data):\n",
    "        t = myStackMin._stackNode()\n",
    "        t.setval(data)\n",
    "        t.nextNode = myStackMin.top\n",
    "        myStackMin.top = t\n",
    "        myStackMin.updateMinVal(myStackMin.top)\n",
    "        \n",
    "    def peek(self):\n",
    "        if myStackMin.top is None:\n",
    "            raise ValueError(\"Stack is empty\")\n",
    "        return myStackMin.top.value\n",
    "    \n",
    "    def minPeek(self):\n",
    "        if myStackMin.top is None:\n",
    "            raise ValueError(\"Stack is empty\")\n",
    "        return myStackMin.minVal.value\n",
    "        \n",
    "    def isEmpty(self):\n",
    "        return myStackMin.top == None\n",
    "    \n",
    "    def assignNewMin():\n",
    "        print(\"assigning new minimum\")"
   ]
  },
  {
   "cell_type": "code",
   "execution_count": 23,
   "metadata": {},
   "outputs": [],
   "source": [
    "list = [1,2,3,4,5,6]\n",
    "list[1] = 3"
   ]
  },
  {
   "cell_type": "code",
   "execution_count": 24,
   "metadata": {},
   "outputs": [
    {
     "name": "stdout",
     "output_type": "stream",
     "text": [
      "[1, 3, 3, 4, 5, 6]\n"
     ]
    }
   ],
   "source": [
    "print(list)"
   ]
  },
  {
   "cell_type": "code",
   "execution_count": 25,
   "metadata": {},
   "outputs": [],
   "source": [
    "list[0]=0"
   ]
  },
  {
   "cell_type": "code",
   "execution_count": 26,
   "metadata": {},
   "outputs": [
    {
     "name": "stdout",
     "output_type": "stream",
     "text": [
      "[0, 3, 3, 4, 5, 6]\n"
     ]
    }
   ],
   "source": [
    "print(list)"
   ]
  },
  {
   "cell_type": "code",
   "execution_count": 40,
   "metadata": {},
   "outputs": [],
   "source": [
    "stackmin = myStackMin()"
   ]
  },
  {
   "cell_type": "code",
   "execution_count": 41,
   "metadata": {
    "scrolled": true
   },
   "outputs": [
    {
     "name": "stdout",
     "output_type": "stream",
     "text": [
      "None\n",
      "updated minimum to 11\n"
     ]
    }
   ],
   "source": [
    "stackmin.push(11)"
   ]
  },
  {
   "cell_type": "code",
   "execution_count": 42,
   "metadata": {},
   "outputs": [],
   "source": [
    "stacknewWithMin = myStackMin()"
   ]
  },
  {
   "cell_type": "code",
   "execution_count": 43,
   "metadata": {},
   "outputs": [
    {
     "name": "stdout",
     "output_type": "stream",
     "text": [
      "<__main__.myStackMin._stackNode object at 0x7faae40660f0>\n",
      "updated minimum to 10\n"
     ]
    }
   ],
   "source": [
    "stacknewWithMin.push(10)"
   ]
  },
  {
   "cell_type": "code",
   "execution_count": 107,
   "metadata": {},
   "outputs": [
    {
     "name": "stdout",
     "output_type": "stream",
     "text": [
      "updated mimimum to 12\n"
     ]
    }
   ],
   "source": [
    "stackwithMin.push(12)"
   ]
  },
  {
   "cell_type": "code",
   "execution_count": 45,
   "metadata": {},
   "outputs": [
    {
     "name": "stdout",
     "output_type": "stream",
     "text": [
      "<__main__.myStackMin._stackNode object at 0x7faae4066278>\n"
     ]
    }
   ],
   "source": [
    "stackmin.push(10)"
   ]
  },
  {
   "cell_type": "code",
   "execution_count": 46,
   "metadata": {},
   "outputs": [
    {
     "name": "stdout",
     "output_type": "stream",
     "text": [
      "<__main__.myStackMin._stackNode object at 0x7faae4066278>\n"
     ]
    }
   ],
   "source": [
    "stackmin.push(20)"
   ]
  },
  {
   "cell_type": "code",
   "execution_count": 47,
   "metadata": {},
   "outputs": [
    {
     "name": "stdout",
     "output_type": "stream",
     "text": [
      "<__main__.myStackMin._stackNode object at 0x7faae4066278>\n"
     ]
    }
   ],
   "source": [
    "stackmin.push(15)"
   ]
  },
  {
   "cell_type": "code",
   "execution_count": 48,
   "metadata": {},
   "outputs": [
    {
     "name": "stdout",
     "output_type": "stream",
     "text": [
      "<__main__.myStackMin._stackNode object at 0x7faae4066278>\n",
      "updated minimum to 8\n"
     ]
    }
   ],
   "source": [
    "stackmin.push(8)"
   ]
  },
  {
   "cell_type": "code",
   "execution_count": 49,
   "metadata": {},
   "outputs": [
    {
     "name": "stdout",
     "output_type": "stream",
     "text": [
      "<__main__.myStackMin._stackNode object at 0x7faae4066898>\n",
      "assigning new minimum\n"
     ]
    },
    {
     "data": {
      "text/plain": [
       "8"
      ]
     },
     "execution_count": 49,
     "metadata": {},
     "output_type": "execute_result"
    }
   ],
   "source": [
    "stackmin.pop()"
   ]
  },
  {
   "cell_type": "code",
   "execution_count": null,
   "metadata": {},
   "outputs": [],
   "source": []
  }
 ],
 "metadata": {
  "kernelspec": {
   "display_name": "Python 3",
   "language": "python",
   "name": "python3"
  },
  "language_info": {
   "codemirror_mode": {
    "name": "ipython",
    "version": 3
   },
   "file_extension": ".py",
   "mimetype": "text/x-python",
   "name": "python",
   "nbconvert_exporter": "python",
   "pygments_lexer": "ipython3",
   "version": "3.6.7"
  }
 },
 "nbformat": 4,
 "nbformat_minor": 2
}
