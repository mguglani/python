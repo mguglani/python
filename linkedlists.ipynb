{
 "cells": [
  {
   "cell_type": "markdown",
   "metadata": {},
   "source": [
    "# Linked Lists\n",
    "\n",
    "Various linked list operations:\n",
    "\n",
    "* find a node in a list given the value.\n",
    "* insert a new node in the list\n",
    "* insert a new node at the tail of a linked list\n",
    "* remove duplicates from a list list\n",
    "* find kth to the last element of a linked list\n",
    "* check if a given list is circular"
   ]
  },
  {
   "cell_type": "code",
   "execution_count": 1,
   "metadata": {},
   "outputs": [],
   "source": [
    "class linkedListNode:\n",
    "    def __init__ (self, value, nextNode=None):\n",
    "        self.value = value\n",
    "        self.nextNode = nextNode"
   ]
  },
  {
   "cell_type": "code",
   "execution_count": 47,
   "metadata": {},
   "outputs": [],
   "source": [
    "def findNode(headNode, value):\n",
    "    curNode = headNode\n",
    "    \n",
    "    while curNode is not None:\n",
    "        if curNode.value == value:\n",
    "            print(\"found entry %d\"%(value))\n",
    "            return curNode\n",
    "        curNode = curNode.nextNode\n",
    "    return curNode"
   ]
  },
  {
   "cell_type": "code",
   "execution_count": 3,
   "metadata": {},
   "outputs": [],
   "source": [
    "def insertNode (headNode, value):\n",
    "    newNode = linkedListNode(value, headNode)\n",
    "    \n",
    "    # newNode.nextNode = headNode\n",
    "    headNode = newNode\n",
    "    return headNode"
   ]
  },
  {
   "cell_type": "code",
   "execution_count": 4,
   "metadata": {},
   "outputs": [],
   "source": [
    "def insertAtTail(head, digit):\n",
    "    curNode = head\n",
    "    newNode = linkedListNode(digit)\n",
    "    \n",
    "    if curNode is None:\n",
    "        head = newNode\n",
    "        print(\"new List\", head.value)\n",
    "        return head\n",
    "    while curNode.nextNode is not None:\n",
    "        curNode = curNode.nextNode\n",
    "    curNode.nextNode = newNode\n",
    "    printNodes(head)\n",
    "    return head"
   ]
  },
  {
   "cell_type": "code",
   "execution_count": 22,
   "metadata": {},
   "outputs": [],
   "source": [
    "def removeDups (headNode):\n",
    "    curNode = headNode\n",
    "    \n",
    "    if curNode is None:\n",
    "        return None\n",
    "    \n",
    "    newHeadNode = linkedListNode(curNode.value)\n",
    "    \n",
    "    while curNode.nextNode is not None:\n",
    "        if findNode(newHeadNode, curNode.nextNode.value) is None:\n",
    "            newHeadNode = insertAtTail(newHeadNode, curNode.nextNode.value)\n",
    "        curNode = curNode.nextNode\n",
    "    printNodes(newHeadNode)    \n",
    "    return newHeadNode"
   ]
  },
  {
   "cell_type": "code",
   "execution_count": 7,
   "metadata": {},
   "outputs": [
    {
     "name": "stdout",
     "output_type": "stream",
     "text": [
      "1\n",
      "None\n"
     ]
    }
   ],
   "source": [
    "node1 = linkedListNode(1)\n",
    "print(node1.value)\n",
    "print(node1.nextNode)"
   ]
  },
  {
   "cell_type": "code",
   "execution_count": 8,
   "metadata": {},
   "outputs": [],
   "source": [
    "node2 = linkedListNode(2)"
   ]
  },
  {
   "cell_type": "code",
   "execution_count": 9,
   "metadata": {},
   "outputs": [],
   "source": [
    "node3 = linkedListNode(3)"
   ]
  },
  {
   "cell_type": "code",
   "execution_count": 10,
   "metadata": {},
   "outputs": [],
   "source": [
    "node4 = linkedListNode(4)"
   ]
  },
  {
   "cell_type": "code",
   "execution_count": 11,
   "metadata": {},
   "outputs": [],
   "source": [
    "node1.nextNode = node2"
   ]
  },
  {
   "cell_type": "code",
   "execution_count": 12,
   "metadata": {},
   "outputs": [],
   "source": [
    "node2.nextNode = node3"
   ]
  },
  {
   "cell_type": "code",
   "execution_count": 13,
   "metadata": {},
   "outputs": [],
   "source": [
    "node3.nextNode = node4"
   ]
  },
  {
   "cell_type": "code",
   "execution_count": 14,
   "metadata": {},
   "outputs": [
    {
     "name": "stdout",
     "output_type": "stream",
     "text": [
      "2\n",
      "3\n",
      "4\n",
      "None\n"
     ]
    }
   ],
   "source": [
    "head = node1\n",
    "print(head.nextNode.value)\n",
    "print(head.nextNode.nextNode.value)\n",
    "print(head.nextNode.nextNode.nextNode.value)\n",
    "print(head.nextNode.nextNode.nextNode.nextNode)"
   ]
  },
  {
   "cell_type": "code",
   "execution_count": 15,
   "metadata": {},
   "outputs": [],
   "source": [
    "def printNodes(headNode):\n",
    "    curNode = headNode\n",
    "    \n",
    "    if curNode is None:\n",
    "        print(\"List is empty\")\n",
    "        return\n",
    "    \n",
    "    while curNode is not None:\n",
    "        print(curNode.value, end=\"\")\n",
    "        print(\"->\", end=\"\")\n",
    "        curNode = curNode.nextNode"
   ]
  },
  {
   "cell_type": "code",
   "execution_count": 16,
   "metadata": {},
   "outputs": [
    {
     "name": "stdout",
     "output_type": "stream",
     "text": [
      "1->2->3->4->"
     ]
    }
   ],
   "source": [
    "printNodes(head)"
   ]
  },
  {
   "cell_type": "code",
   "execution_count": 17,
   "metadata": {},
   "outputs": [
    {
     "name": "stdout",
     "output_type": "stream",
     "text": [
      "1\n"
     ]
    }
   ],
   "source": [
    "print(node1.value)"
   ]
  },
  {
   "cell_type": "code",
   "execution_count": 18,
   "metadata": {},
   "outputs": [
    {
     "data": {
      "text/plain": [
       "<__main__.linkedListNode at 0x7f4fa85ad7b8>"
      ]
     },
     "execution_count": 18,
     "metadata": {},
     "output_type": "execute_result"
    }
   ],
   "source": [
    "node1"
   ]
  },
  {
   "cell_type": "code",
   "execution_count": 19,
   "metadata": {},
   "outputs": [
    {
     "data": {
      "text/plain": [
       "__main__.linkedListNode"
      ]
     },
     "execution_count": 19,
     "metadata": {},
     "output_type": "execute_result"
    }
   ],
   "source": [
    "type(node1)"
   ]
  },
  {
   "cell_type": "code",
   "execution_count": 20,
   "metadata": {},
   "outputs": [
    {
     "name": "stdout",
     "output_type": "stream",
     "text": [
      "1->2->3->4->"
     ]
    }
   ],
   "source": [
    "printNodes(head)"
   ]
  },
  {
   "cell_type": "code",
   "execution_count": 23,
   "metadata": {},
   "outputs": [
    {
     "name": "stdout",
     "output_type": "stream",
     "text": [
      "1->2->1->2->3->1->2->3->4->1->2->3->4->"
     ]
    }
   ],
   "source": [
    "newHead = linkedListNode(None)\n",
    "newHead = removeDups(head)"
   ]
  },
  {
   "cell_type": "code",
   "execution_count": 24,
   "metadata": {},
   "outputs": [
    {
     "name": "stdout",
     "output_type": "stream",
     "text": [
      "1->2->3->4->"
     ]
    }
   ],
   "source": [
    "printNodes(newHead)"
   ]
  },
  {
   "cell_type": "code",
   "execution_count": 25,
   "metadata": {},
   "outputs": [
    {
     "name": "stdout",
     "output_type": "stream",
     "text": [
      "1\n"
     ]
    }
   ],
   "source": [
    "print(newHead.value)"
   ]
  },
  {
   "cell_type": "code",
   "execution_count": 26,
   "metadata": {},
   "outputs": [],
   "source": [
    "head2 = None"
   ]
  },
  {
   "cell_type": "code",
   "execution_count": 27,
   "metadata": {},
   "outputs": [],
   "source": [
    "newHead2 = removeDups(head2)"
   ]
  },
  {
   "cell_type": "code",
   "execution_count": 28,
   "metadata": {},
   "outputs": [
    {
     "name": "stdout",
     "output_type": "stream",
     "text": [
      "<class 'NoneType'>\n"
     ]
    }
   ],
   "source": [
    "print(type(newHead2))"
   ]
  },
  {
   "cell_type": "code",
   "execution_count": 29,
   "metadata": {},
   "outputs": [],
   "source": [
    "node5 = linkedListNode(1)"
   ]
  },
  {
   "cell_type": "code",
   "execution_count": 30,
   "metadata": {},
   "outputs": [],
   "source": [
    "head3 = node5"
   ]
  },
  {
   "cell_type": "code",
   "execution_count": 31,
   "metadata": {},
   "outputs": [
    {
     "name": "stdout",
     "output_type": "stream",
     "text": [
      "1->"
     ]
    }
   ],
   "source": [
    "newHead3 = removeDups(node5)"
   ]
  },
  {
   "cell_type": "code",
   "execution_count": 32,
   "metadata": {},
   "outputs": [],
   "source": [
    "node9 = linkedListNode(4)"
   ]
  },
  {
   "cell_type": "code",
   "execution_count": 33,
   "metadata": {},
   "outputs": [],
   "source": [
    "node6 = linkedListNode(1)"
   ]
  },
  {
   "cell_type": "code",
   "execution_count": 34,
   "metadata": {},
   "outputs": [],
   "source": [
    "node7 = linkedListNode(2)"
   ]
  },
  {
   "cell_type": "code",
   "execution_count": 35,
   "metadata": {},
   "outputs": [],
   "source": [
    "node8 = linkedListNode(1)"
   ]
  },
  {
   "cell_type": "code",
   "execution_count": 36,
   "metadata": {},
   "outputs": [],
   "source": [
    "node10 = linkedListNode(2)"
   ]
  },
  {
   "cell_type": "code",
   "execution_count": 37,
   "metadata": {},
   "outputs": [],
   "source": [
    "node6.nextNode = node7"
   ]
  },
  {
   "cell_type": "code",
   "execution_count": 38,
   "metadata": {},
   "outputs": [],
   "source": [
    "node7.nextNode = node8"
   ]
  },
  {
   "cell_type": "code",
   "execution_count": 39,
   "metadata": {},
   "outputs": [],
   "source": [
    "node8.nextNode = node9"
   ]
  },
  {
   "cell_type": "code",
   "execution_count": 40,
   "metadata": {},
   "outputs": [],
   "source": [
    "node9.nextNode = node10"
   ]
  },
  {
   "cell_type": "code",
   "execution_count": 41,
   "metadata": {},
   "outputs": [],
   "source": [
    "head4 = node6"
   ]
  },
  {
   "cell_type": "code",
   "execution_count": 45,
   "metadata": {},
   "outputs": [
    {
     "name": "stdout",
     "output_type": "stream",
     "text": [
      "1->2->1->4->2->"
     ]
    }
   ],
   "source": [
    "printNodes(head4)"
   ]
  },
  {
   "cell_type": "code",
   "execution_count": 48,
   "metadata": {},
   "outputs": [
    {
     "name": "stdout",
     "output_type": "stream",
     "text": [
      "1->2->found entry 1\n",
      "1->2->4->found entry 2\n",
      "1->2->4->"
     ]
    }
   ],
   "source": [
    "newHead4 = removeDups(head4)"
   ]
  },
  {
   "cell_type": "code",
   "execution_count": 49,
   "metadata": {},
   "outputs": [
    {
     "name": "stdout",
     "output_type": "stream",
     "text": [
      "1->2->4->"
     ]
    }
   ],
   "source": [
    "printNodes(newHead4)"
   ]
  },
  {
   "cell_type": "code",
   "execution_count": 51,
   "metadata": {},
   "outputs": [],
   "source": [
    "def findKthToLastElement(headNode, k):\n",
    "    curNode = headNode\n",
    "    prevNode = headNode\n",
    "    curPos = 0\n",
    "    \n",
    "    while curNode is not None:\n",
    "        curPos+=1\n",
    "        if curPos == k:\n",
    "            prev\n",
    "        \n",
    "    "
   ]
  },
  {
   "cell_type": "code",
   "execution_count": 60,
   "metadata": {},
   "outputs": [],
   "source": [
    "def isCircular(headNode):\n",
    "    slowNode = headNode\n",
    "    fastNode = headNode\n",
    "    \n",
    "    if fastNode.nextNode == headNode:\n",
    "        return True\n",
    "    while fastNode is not None and fastNode.nextNode is not None:\n",
    "        slowNode = slowNode.nextNode\n",
    "        fastNode = fastNode.nextNode.nextNode\n",
    "        if fastNode == slowNode or (fastNode != None and fastNode.nextNode == slowNode):\n",
    "            return True\n",
    "    return False"
   ]
  },
  {
   "cell_type": "code",
   "execution_count": 61,
   "metadata": {},
   "outputs": [
    {
     "data": {
      "text/plain": [
       "False"
      ]
     },
     "execution_count": 61,
     "metadata": {},
     "output_type": "execute_result"
    }
   ],
   "source": [
    "isCircular(head4)"
   ]
  },
  {
   "cell_type": "code",
   "execution_count": 62,
   "metadata": {},
   "outputs": [
    {
     "name": "stdout",
     "output_type": "stream",
     "text": [
      "1->2->3->4->"
     ]
    }
   ],
   "source": [
    "printNodes(head)"
   ]
  },
  {
   "cell_type": "code",
   "execution_count": 63,
   "metadata": {},
   "outputs": [
    {
     "data": {
      "text/plain": [
       "False"
      ]
     },
     "execution_count": 63,
     "metadata": {},
     "output_type": "execute_result"
    }
   ],
   "source": [
    "isCircular(head)"
   ]
  },
  {
   "cell_type": "code",
   "execution_count": 64,
   "metadata": {},
   "outputs": [],
   "source": [
    "node11 = linkedListNode(8)\n",
    "head = node11\n",
    "node11.nextNode = head"
   ]
  },
  {
   "cell_type": "code",
   "execution_count": 65,
   "metadata": {},
   "outputs": [
    {
     "data": {
      "text/plain": [
       "True"
      ]
     },
     "execution_count": 65,
     "metadata": {},
     "output_type": "execute_result"
    }
   ],
   "source": [
    "isCircular(head)"
   ]
  },
  {
   "cell_type": "code",
   "execution_count": 66,
   "metadata": {},
   "outputs": [],
   "source": [
    "node4.nextNode = node2"
   ]
  },
  {
   "cell_type": "code",
   "execution_count": 67,
   "metadata": {},
   "outputs": [],
   "source": [
    "head = node1"
   ]
  },
  {
   "cell_type": "code",
   "execution_count": 68,
   "metadata": {},
   "outputs": [
    {
     "data": {
      "text/plain": [
       "True"
      ]
     },
     "execution_count": 68,
     "metadata": {},
     "output_type": "execute_result"
    }
   ],
   "source": [
    "isCircular(head)"
   ]
  },
  {
   "cell_type": "code",
   "execution_count": 69,
   "metadata": {},
   "outputs": [
    {
     "name": "stdout",
     "output_type": "stream",
     "text": [
      "<__main__.linkedListNode object at 0x7f4fa85ad2e8>\n"
     ]
    }
   ],
   "source": [
    "print(node1.nextNode)"
   ]
  },
  {
   "cell_type": "code",
   "execution_count": 70,
   "metadata": {},
   "outputs": [],
   "source": [
    "node4.nextNode = node2"
   ]
  },
  {
   "cell_type": "code",
   "execution_count": 71,
   "metadata": {},
   "outputs": [
    {
     "data": {
      "text/plain": [
       "False"
      ]
     },
     "execution_count": 71,
     "metadata": {},
     "output_type": "execute_result"
    }
   ],
   "source": [
    "isCircular(head3)"
   ]
  },
  {
   "cell_type": "code",
   "execution_count": 72,
   "metadata": {},
   "outputs": [
    {
     "name": "stdout",
     "output_type": "stream",
     "text": [
      "<__main__.linkedListNode object at 0x7f4fa85ad2e8>\n",
      "<__main__.linkedListNode object at 0x7f4fa85ad0f0>\n",
      "<__main__.linkedListNode object at 0x7f4fa85ad438>\n",
      "<__main__.linkedListNode object at 0x7f4fa85ad2e8>\n"
     ]
    }
   ],
   "source": [
    "print(node1.nextNode)\n",
    "print(node2.nextNode)\n",
    "print(node3.nextNode)\n",
    "print(node4.nextNode)"
   ]
  },
  {
   "cell_type": "code",
   "execution_count": 73,
   "metadata": {},
   "outputs": [],
   "source": [
    "def sumLists(headList1, headList2):\n",
    "    carryOver = 0\n",
    "    curNodeList1 = headList1 \n",
    "    curNodeList2 = headList2\n",
    "    headListSum = None\n",
    "    \n",
    "    while curNodeList1 is not None and curNodeList2 is not None:\n",
    "        sumUp = curNodeList1.value + curNodeList2.value + carryOver\n",
    "        digit = sumUp % 10\n",
    "        carryOver = sumUp // 10\n",
    "        \n",
    "        headListSum = insertAtTail(headListSum, digit)\n",
    "        print(\"value\", headListSum.value)\n",
    "        print(\"nextNode\", headListSum.nextNode)\n",
    "        curNodeList1 = curNodeList1.nextNode\n",
    "        curNodeList2 = curNodeList2.nextNode\n",
    "    \n",
    "    if carryOver is not 0:\n",
    "        headListSum = insertNode(headListSum, carryOver)\n",
    "        \n",
    "    while curNodeList1 is not None:\n",
    "        headListSum = insertAtTail(headListSum, curNodeList1.value)\n",
    "        curNodeList1 = curNodeList1.nextNode\n",
    "    while curNodeList2 is not None:\n",
    "        headListSum = insertAtTail(headListSum, curNodeList2.value)\n",
    "        curNodeList2 = curNodeList2.nextNode\n",
    "    \n",
    "    printNodes(headListSum)\n",
    "    return headListSum"
   ]
  },
  {
   "cell_type": "code",
   "execution_count": 74,
   "metadata": {},
   "outputs": [],
   "source": [
    "digit1List1 = linkedListNode(7)"
   ]
  },
  {
   "cell_type": "code",
   "execution_count": 75,
   "metadata": {},
   "outputs": [],
   "source": [
    "digit2List1 = linkedListNode(1)"
   ]
  },
  {
   "cell_type": "code",
   "execution_count": 76,
   "metadata": {},
   "outputs": [],
   "source": [
    "digit3List1 = linkedListNode(6)"
   ]
  },
  {
   "cell_type": "code",
   "execution_count": 77,
   "metadata": {},
   "outputs": [],
   "source": [
    "digit1List1.nextNode = digit2List1"
   ]
  },
  {
   "cell_type": "code",
   "execution_count": 78,
   "metadata": {},
   "outputs": [],
   "source": [
    "digit2List1.nextNode = digit3List1"
   ]
  },
  {
   "cell_type": "code",
   "execution_count": 79,
   "metadata": {},
   "outputs": [
    {
     "name": "stdout",
     "output_type": "stream",
     "text": [
      "7->1->6->"
     ]
    }
   ],
   "source": [
    "inputList1 = digit1List1\n",
    "printNodes(inputList1)"
   ]
  },
  {
   "cell_type": "code",
   "execution_count": 80,
   "metadata": {},
   "outputs": [],
   "source": [
    "digit1List2 = linkedListNode(5)\n",
    "digit2List2 = linkedListNode(9)\n",
    "digit3List2 = linkedListNode(2)"
   ]
  },
  {
   "cell_type": "code",
   "execution_count": 81,
   "metadata": {},
   "outputs": [
    {
     "name": "stdout",
     "output_type": "stream",
     "text": [
      "5->9->2->"
     ]
    }
   ],
   "source": [
    "digit1List2.nextNode = digit2List2\n",
    "digit2List2.nextNode = digit3List2\n",
    "inputList2 = digit1List2\n",
    "printNodes(inputList2)"
   ]
  },
  {
   "cell_type": "code",
   "execution_count": 82,
   "metadata": {},
   "outputs": [
    {
     "name": "stdout",
     "output_type": "stream",
     "text": [
      "new List 2\n",
      "value 2\n",
      "nextNode None\n",
      "2->1->value 2\n",
      "nextNode <__main__.linkedListNode object at 0x7f4fa853f438>\n",
      "2->1->9->value 2\n",
      "nextNode <__main__.linkedListNode object at 0x7f4fa853f438>\n",
      "2->1->9->"
     ]
    }
   ],
   "source": [
    "outputList = sumLists(inputList1, inputList2)"
   ]
  },
  {
   "cell_type": "code",
   "execution_count": 83,
   "metadata": {},
   "outputs": [
    {
     "name": "stdout",
     "output_type": "stream",
     "text": [
      "2->1->9->"
     ]
    }
   ],
   "source": [
    "printNodes(outputList)"
   ]
  },
  {
   "cell_type": "code",
   "execution_count": 84,
   "metadata": {},
   "outputs": [
    {
     "name": "stdout",
     "output_type": "stream",
     "text": [
      "new List 5\n",
      "5->9->5->9->2->5->9->2->"
     ]
    }
   ],
   "source": [
    "outputList1 = sumLists(None, inputList2)"
   ]
  },
  {
   "cell_type": "code",
   "execution_count": 85,
   "metadata": {},
   "outputs": [
    {
     "name": "stdout",
     "output_type": "stream",
     "text": [
      "5->9->2->"
     ]
    }
   ],
   "source": [
    "printNodes(outputList1)"
   ]
  },
  {
   "cell_type": "code",
   "execution_count": 86,
   "metadata": {},
   "outputs": [
    {
     "name": "stdout",
     "output_type": "stream",
     "text": [
      "new List 7\n",
      "7->1->7->1->6->7->1->6->"
     ]
    }
   ],
   "source": [
    "outputList1 = sumLists(inputList1, None)"
   ]
  },
  {
   "cell_type": "code",
   "execution_count": 87,
   "metadata": {},
   "outputs": [
    {
     "name": "stdout",
     "output_type": "stream",
     "text": [
      "7->1->6->"
     ]
    }
   ],
   "source": [
    "printNodes(outputList1)"
   ]
  },
  {
   "cell_type": "code",
   "execution_count": 88,
   "metadata": {},
   "outputs": [
    {
     "name": "stdout",
     "output_type": "stream",
     "text": [
      "List is empty\n"
     ]
    }
   ],
   "source": [
    "outputList3 = sumLists(None, None)"
   ]
  },
  {
   "cell_type": "code",
   "execution_count": 89,
   "metadata": {},
   "outputs": [
    {
     "name": "stdout",
     "output_type": "stream",
     "text": [
      "List is empty\n"
     ]
    }
   ],
   "source": [
    "printNodes(outputList3)"
   ]
  },
  {
   "cell_type": "code",
   "execution_count": 90,
   "metadata": {},
   "outputs": [],
   "source": [
    "def sumListRec(headListSum, curNodeList1, curNodeList2, carryOver):\n",
    "    \n",
    "    if curNodeList1 is None or curNodeList2 is None:\n",
    "        while curNodeList1 is not None:\n",
    "            headListSum = insertNode(headListSum, curNodeList1.value)\n",
    "            curNodeList1 = curNodeList1.nextNode\n",
    "        while curNodeList2 is not None:\n",
    "            headListSum = insertNode(headListSum, curNodeList2.value)\n",
    "            curNodeList2 = curNodeList2.nextNode\n",
    "        return headListSum, carryOver\n",
    "    \n",
    "    if curNodeList1.nextNode is None and curNodeList2.nextNode is None:\n",
    "        sum = curNodeList1.value + curNodeList2.value\n",
    "        digit = sum % 10\n",
    "        carryOver = sum // 10\n",
    "        headListSum = insertNode(headListSum, digit)\n",
    "        print(\"value\", headListSum.value)\n",
    "        print(\"nextNode\", headListSum.nextNode)\n",
    "        curNodeList1 = curNodeList1.nextNode\n",
    "        curNodeList2 = curNodeList2.nextNode\n",
    "        return headListSum, carryOver\n",
    "    \n",
    "    headListSum, carryOver = sumListRec(headListSum, curNodeList1.nextNode, curNodeList2.nextNode, carryOver)\n",
    "    \n",
    "    sum = curNodeList1.value + curNodeList2.value + carryOver\n",
    "    digit = sum % 10\n",
    "    carryOver = sum // 10\n",
    "    headListSum = insertNode(headListSum, digit)\n",
    "    print(\"value\", headListSum.value)\n",
    "    print(\"nextNode\", headListSum.nextNode)\n",
    "   \n",
    "    return headListSum, carryOver"
   ]
  },
  {
   "cell_type": "code",
   "execution_count": 91,
   "metadata": {},
   "outputs": [],
   "source": [
    "def sumListReverse(headList1, headList2):\n",
    "    headListSum = None\n",
    "    headListSum, carryOver = sumListRec(headListSum, headList1, headList2, 0)\n",
    "    \n",
    "    if carryOver is not 0:\n",
    "        headListSum = insertNode(headListSum, carryOver)\n",
    "    \n",
    "    printNodes(headListSum)\n",
    "    return headListSum"
   ]
  },
  {
   "cell_type": "code",
   "execution_count": 92,
   "metadata": {},
   "outputs": [
    {
     "name": "stdout",
     "output_type": "stream",
     "text": [
      "List is empty\n"
     ]
    }
   ],
   "source": [
    "outputList = sumListReverse(None, None)"
   ]
  },
  {
   "cell_type": "code",
   "execution_count": 93,
   "metadata": {},
   "outputs": [],
   "source": [
    "revNode1List1 = linkedListNode(6)\n",
    "revNode2List1 = linkedListNode(1)\n",
    "revNode3List1 = linkedListNode(7)\n",
    "revNode1List2 = linkedListNode(2)\n",
    "revNode2List2 = linkedListNode(9)\n",
    "revNode3List2 = linkedListNode(5)"
   ]
  },
  {
   "cell_type": "code",
   "execution_count": 94,
   "metadata": {},
   "outputs": [],
   "source": [
    "revNode1List1.nextNode = revNode2List1\n",
    "revNode2List1.nextNode = revNode3List1\n",
    "revNode1List2.nextNode = revNode2List2\n",
    "revNode2List2.nextNode = revNode3List2"
   ]
  },
  {
   "cell_type": "code",
   "execution_count": 95,
   "metadata": {},
   "outputs": [],
   "source": [
    "inputList1 = revNode1List1\n",
    "inputList2 = revNode1List2"
   ]
  },
  {
   "cell_type": "code",
   "execution_count": 96,
   "metadata": {},
   "outputs": [
    {
     "name": "stdout",
     "output_type": "stream",
     "text": [
      "value 2\n",
      "nextNode None\n",
      "value 1\n",
      "nextNode <__main__.linkedListNode object at 0x7f4fa853f940>\n",
      "value 9\n",
      "nextNode <__main__.linkedListNode object at 0x7f4fa853fdd8>\n",
      "9->1->2->"
     ]
    }
   ],
   "source": [
    "outputList2 = sumListReverse(inputList1, inputList2)"
   ]
  },
  {
   "cell_type": "code",
   "execution_count": 97,
   "metadata": {},
   "outputs": [],
   "source": [
    "revNode1List1.value = 9"
   ]
  },
  {
   "cell_type": "code",
   "execution_count": 98,
   "metadata": {},
   "outputs": [
    {
     "name": "stdout",
     "output_type": "stream",
     "text": [
      "value 2\n",
      "nextNode None\n",
      "value 1\n",
      "nextNode <__main__.linkedListNode object at 0x7f4fa853fb00>\n",
      "value 2\n",
      "nextNode <__main__.linkedListNode object at 0x7f4fa853f1d0>\n",
      "1->2->1->2->"
     ]
    }
   ],
   "source": [
    "outputList2 = sumListReverse(inputList1, inputList2)"
   ]
  },
  {
   "cell_type": "code",
   "execution_count": 99,
   "metadata": {},
   "outputs": [
    {
     "name": "stdout",
     "output_type": "stream",
     "text": [
      "1->2->1->2->"
     ]
    }
   ],
   "source": [
    "printNodes(outputList2)"
   ]
  },
  {
   "cell_type": "code",
   "execution_count": null,
   "metadata": {},
   "outputs": [],
   "source": []
  }
 ],
 "metadata": {
  "kernelspec": {
   "display_name": "Python 3",
   "language": "python",
   "name": "python3"
  },
  "language_info": {
   "codemirror_mode": {
    "name": "ipython",
    "version": 3
   },
   "file_extension": ".py",
   "mimetype": "text/x-python",
   "name": "python",
   "nbconvert_exporter": "python",
   "pygments_lexer": "ipython3",
   "version": "3.6.7"
  }
 },
 "nbformat": 4,
 "nbformat_minor": 2
}
