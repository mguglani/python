{
 "cells": [
  {
   "cell_type": "code",
   "execution_count": 3,
   "metadata": {},
   "outputs": [],
   "source": [
    "class linkedListNode:\n",
    "    def __init__ (self, value, nextNode=None):\n",
    "        self.value = value\n",
    "        self.nextNode = nextNode"
   ]
  },
  {
   "cell_type": "code",
   "execution_count": 97,
   "metadata": {},
   "outputs": [],
   "source": [
    "def findNode(headNode, value):\n",
    "    curNode = headNode\n",
    "    \n",
    "    while curNode is not None:\n",
    "        if curNode.value == value:\n",
    "            print(\"found entry %d\",value)\n",
    "            return curNode\n",
    "        curNode = curNode.nextNode\n",
    "    return curNode"
   ]
  },
  {
   "cell_type": "code",
   "execution_count": 187,
   "metadata": {},
   "outputs": [],
   "source": [
    "def insertNode (headNode, value):\n",
    "    newNode = linkedListNode(value)\n",
    "    \n",
    "    newNode.nextNode = headNode\n",
    "    headNode = newNode\n",
    "    return headNode"
   ]
  },
  {
   "cell_type": "code",
   "execution_count": 268,
   "metadata": {},
   "outputs": [],
   "source": [
    "def insertAtTail(head, digit):\n",
    "    curNode = head\n",
    "    newNode = linkedListNode(digit)\n",
    "    \n",
    "    if curNode is None:\n",
    "        head = newNode\n",
    "        print(\"new List\", head.value)\n",
    "        return head\n",
    "    while curNode.nextNode is not None:\n",
    "        curNode = curNode.nextNode\n",
    "    curNode.nextNode = newNode\n",
    "    printNodes(head)\n",
    "    return head"
   ]
  },
  {
   "cell_type": "code",
   "execution_count": 269,
   "metadata": {},
   "outputs": [],
   "source": [
    "def removeDups (headNode):\n",
    "    curNode = headNode\n",
    "    \n",
    "    if curNode is None:\n",
    "        return None\n",
    "    \n",
    "    newHeadNode = linkedListNode(curNode.value)\n",
    "    \n",
    "    while curNode.nextNode is not None:\n",
    "        if findNode(newHeadNode, curNode.nextNode.value) is None:\n",
    "            newHeadNode = insertAtTail(newHeadNode, curNode.nextNode.value)\n",
    "        curNode = curNode.nextNode\n",
    "    printNodes(newHeadNode)    \n",
    "    return newHeadNode"
   ]
  },
  {
   "cell_type": "code",
   "execution_count": 270,
   "metadata": {},
   "outputs": [
    {
     "name": "stdout",
     "output_type": "stream",
     "text": [
      "1\n",
      "None\n"
     ]
    }
   ],
   "source": [
    "node1 = linkedListNode(1)\n",
    "print(node1.value)\n",
    "print(node1.nextNode)"
   ]
  },
  {
   "cell_type": "code",
   "execution_count": 271,
   "metadata": {},
   "outputs": [],
   "source": [
    "node2 = linkedListNode(2)"
   ]
  },
  {
   "cell_type": "code",
   "execution_count": 272,
   "metadata": {},
   "outputs": [],
   "source": [
    "node3 = linkedListNode(3)"
   ]
  },
  {
   "cell_type": "code",
   "execution_count": 273,
   "metadata": {},
   "outputs": [],
   "source": [
    "node4 = linkedListNode(4)"
   ]
  },
  {
   "cell_type": "code",
   "execution_count": 274,
   "metadata": {},
   "outputs": [],
   "source": [
    "node1.nextNode = node2"
   ]
  },
  {
   "cell_type": "code",
   "execution_count": 275,
   "metadata": {},
   "outputs": [],
   "source": [
    "node2.nextNode = node3"
   ]
  },
  {
   "cell_type": "code",
   "execution_count": 276,
   "metadata": {},
   "outputs": [],
   "source": [
    "node3.nextNode = node4"
   ]
  },
  {
   "cell_type": "code",
   "execution_count": 277,
   "metadata": {},
   "outputs": [
    {
     "name": "stdout",
     "output_type": "stream",
     "text": [
      "2\n",
      "3\n",
      "4\n",
      "None\n"
     ]
    }
   ],
   "source": [
    "head = node1\n",
    "print(head.nextNode.value)\n",
    "print(head.nextNode.nextNode.value)\n",
    "print(head.nextNode.nextNode.nextNode.value)\n",
    "print(head.nextNode.nextNode.nextNode.nextNode)"
   ]
  },
  {
   "cell_type": "code",
   "execution_count": 278,
   "metadata": {},
   "outputs": [],
   "source": [
    "def printNodes(headNode):\n",
    "    curNode = headNode\n",
    "    \n",
    "    if curNode is None:\n",
    "        print(\"List is empty\")\n",
    "        return\n",
    "    \n",
    "    while curNode is not None:\n",
    "        print(curNode.value)\n",
    "        print(\"->\")\n",
    "        curNode = curNode.nextNode"
   ]
  },
  {
   "cell_type": "code",
   "execution_count": 279,
   "metadata": {},
   "outputs": [
    {
     "name": "stdout",
     "output_type": "stream",
     "text": [
      "1\n",
      "->\n",
      "2\n",
      "->\n",
      "3\n",
      "->\n",
      "4\n",
      "->\n"
     ]
    }
   ],
   "source": [
    "printNodes(head)"
   ]
  },
  {
   "cell_type": "code",
   "execution_count": 57,
   "metadata": {},
   "outputs": [
    {
     "name": "stdout",
     "output_type": "stream",
     "text": [
      "1\n"
     ]
    }
   ],
   "source": [
    "print(node1.value)"
   ]
  },
  {
   "cell_type": "code",
   "execution_count": 58,
   "metadata": {},
   "outputs": [
    {
     "data": {
      "text/plain": [
       "<__main__.linkedListNode at 0x7fcff83af7b8>"
      ]
     },
     "execution_count": 58,
     "metadata": {},
     "output_type": "execute_result"
    }
   ],
   "source": [
    "node1"
   ]
  },
  {
   "cell_type": "code",
   "execution_count": 59,
   "metadata": {},
   "outputs": [
    {
     "data": {
      "text/plain": [
       "__main__.linkedListNode"
      ]
     },
     "execution_count": 59,
     "metadata": {},
     "output_type": "execute_result"
    }
   ],
   "source": [
    "type(node1)"
   ]
  },
  {
   "cell_type": "markdown",
   "metadata": {},
   "source": [
    "removeDups(head)"
   ]
  },
  {
   "cell_type": "code",
   "execution_count": 25,
   "metadata": {},
   "outputs": [
    {
     "name": "stdout",
     "output_type": "stream",
     "text": [
      "1\n",
      "->\n",
      "2\n",
      "->\n",
      "3\n",
      "->\n",
      "4\n",
      "->\n"
     ]
    }
   ],
   "source": [
    "printNodes(head)"
   ]
  },
  {
   "cell_type": "code",
   "execution_count": 280,
   "metadata": {},
   "outputs": [
    {
     "name": "stdout",
     "output_type": "stream",
     "text": [
      "1\n",
      "->\n",
      "2\n",
      "->\n",
      "1\n",
      "->\n",
      "2\n",
      "->\n",
      "3\n",
      "->\n",
      "1\n",
      "->\n",
      "2\n",
      "->\n",
      "3\n",
      "->\n",
      "4\n",
      "->\n",
      "1\n",
      "->\n",
      "2\n",
      "->\n",
      "3\n",
      "->\n",
      "4\n",
      "->\n"
     ]
    }
   ],
   "source": [
    "newHead = linkedListNode(None)\n",
    "newHead = removeDups(head)"
   ]
  },
  {
   "cell_type": "code",
   "execution_count": 281,
   "metadata": {},
   "outputs": [
    {
     "name": "stdout",
     "output_type": "stream",
     "text": [
      "1\n",
      "->\n",
      "2\n",
      "->\n",
      "3\n",
      "->\n",
      "4\n",
      "->\n"
     ]
    }
   ],
   "source": [
    "printNodes(newHead)"
   ]
  },
  {
   "cell_type": "code",
   "execution_count": 282,
   "metadata": {},
   "outputs": [
    {
     "name": "stdout",
     "output_type": "stream",
     "text": [
      "1\n"
     ]
    }
   ],
   "source": [
    "print(newHead.value)"
   ]
  },
  {
   "cell_type": "code",
   "execution_count": 249,
   "metadata": {},
   "outputs": [],
   "source": [
    "head2 = None"
   ]
  },
  {
   "cell_type": "code",
   "execution_count": 250,
   "metadata": {},
   "outputs": [],
   "source": [
    "newHead2 = removeDups(head2)"
   ]
  },
  {
   "cell_type": "code",
   "execution_count": 251,
   "metadata": {},
   "outputs": [
    {
     "name": "stdout",
     "output_type": "stream",
     "text": [
      "<class 'NoneType'>\n"
     ]
    }
   ],
   "source": [
    "print(type(newHead2))"
   ]
  },
  {
   "cell_type": "code",
   "execution_count": 252,
   "metadata": {},
   "outputs": [],
   "source": [
    "node5 = linkedListNode(1)"
   ]
  },
  {
   "cell_type": "code",
   "execution_count": 253,
   "metadata": {},
   "outputs": [],
   "source": [
    "head3 = node5"
   ]
  },
  {
   "cell_type": "code",
   "execution_count": 254,
   "metadata": {},
   "outputs": [
    {
     "name": "stdout",
     "output_type": "stream",
     "text": [
      "1\n",
      "->\n"
     ]
    }
   ],
   "source": [
    "newHead3 = removeDups(node5)"
   ]
  },
  {
   "cell_type": "code",
   "execution_count": 221,
   "metadata": {},
   "outputs": [
    {
     "ename": "SyntaxError",
     "evalue": "can't assign to function call (<ipython-input-221-78da39753e29>, line 1)",
     "output_type": "error",
     "traceback": [
      "\u001b[0;36m  File \u001b[0;32m\"<ipython-input-221-78da39753e29>\"\u001b[0;36m, line \u001b[0;32m1\u001b[0m\n\u001b[0;31m    node6 = linkedListNode(1), node7 = linkedListNode(2), node8 = linkedListNode(1), node9 = linkedListNode(4), node10 = linkedListNode(2)\u001b[0m\n\u001b[0m           ^\u001b[0m\n\u001b[0;31mSyntaxError\u001b[0m\u001b[0;31m:\u001b[0m can't assign to function call\n"
     ]
    }
   ],
   "source": [
    "node6 = linkedListNode(1), node7 = linkedListNode(2), node8 = linkedListNode(1), node9 = linkedListNode(4), node10 = linkedListNode(2)"
   ]
  },
  {
   "cell_type": "code",
   "execution_count": 255,
   "metadata": {},
   "outputs": [],
   "source": [
    "node9 = linkedListNode(4)"
   ]
  },
  {
   "cell_type": "code",
   "execution_count": 256,
   "metadata": {},
   "outputs": [],
   "source": [
    "node6 = linkedListNode(1)"
   ]
  },
  {
   "cell_type": "code",
   "execution_count": 257,
   "metadata": {},
   "outputs": [],
   "source": [
    "node7 = linkedListNode(2)"
   ]
  },
  {
   "cell_type": "code",
   "execution_count": 258,
   "metadata": {},
   "outputs": [],
   "source": [
    "node8 = linkedListNode(1)"
   ]
  },
  {
   "cell_type": "code",
   "execution_count": 259,
   "metadata": {},
   "outputs": [],
   "source": [
    "node10 = linkedListNode(2)"
   ]
  },
  {
   "cell_type": "code",
   "execution_count": 260,
   "metadata": {},
   "outputs": [],
   "source": [
    "node6.nextNode = node7"
   ]
  },
  {
   "cell_type": "code",
   "execution_count": 261,
   "metadata": {},
   "outputs": [],
   "source": [
    "node7.nextNode = node8"
   ]
  },
  {
   "cell_type": "code",
   "execution_count": 262,
   "metadata": {},
   "outputs": [],
   "source": [
    "node8.nextNode = node9"
   ]
  },
  {
   "cell_type": "code",
   "execution_count": 263,
   "metadata": {},
   "outputs": [],
   "source": [
    "node9.nextNode = node10"
   ]
  },
  {
   "cell_type": "code",
   "execution_count": 264,
   "metadata": {},
   "outputs": [],
   "source": [
    "head4 = node6"
   ]
  },
  {
   "cell_type": "code",
   "execution_count": 265,
   "metadata": {},
   "outputs": [
    {
     "name": "stdout",
     "output_type": "stream",
     "text": [
      "1\n",
      "->\n",
      "2\n",
      "->\n",
      "1\n",
      "->\n",
      "4\n",
      "->\n",
      "2\n",
      "->\n"
     ]
    }
   ],
   "source": [
    "printNodes(head4)"
   ]
  },
  {
   "cell_type": "code",
   "execution_count": 283,
   "metadata": {},
   "outputs": [
    {
     "name": "stdout",
     "output_type": "stream",
     "text": [
      "1\n",
      "->\n",
      "2\n",
      "->\n",
      "found a duplicate entry %d 1\n",
      "1\n",
      "->\n",
      "2\n",
      "->\n",
      "4\n",
      "->\n",
      "found a duplicate entry %d 2\n",
      "1\n",
      "->\n",
      "2\n",
      "->\n",
      "4\n",
      "->\n"
     ]
    }
   ],
   "source": [
    "newHead4 = removeDups(head4)"
   ]
  },
  {
   "cell_type": "code",
   "execution_count": 284,
   "metadata": {},
   "outputs": [
    {
     "name": "stdout",
     "output_type": "stream",
     "text": [
      "1\n",
      "->\n",
      "2\n",
      "->\n",
      "4\n",
      "->\n"
     ]
    }
   ],
   "source": [
    "printNodes(newHead4)"
   ]
  },
  {
   "cell_type": "code",
   "execution_count": 101,
   "metadata": {},
   "outputs": [
    {
     "ename": "SyntaxError",
     "evalue": "invalid syntax (<ipython-input-101-d71d8a348ef3>, line 7)",
     "output_type": "error",
     "traceback": [
      "\u001b[0;36m  File \u001b[0;32m\"<ipython-input-101-d71d8a348ef3>\"\u001b[0;36m, line \u001b[0;32m7\u001b[0m\n\u001b[0;31m    curPos++\u001b[0m\n\u001b[0m            ^\u001b[0m\n\u001b[0;31mSyntaxError\u001b[0m\u001b[0;31m:\u001b[0m invalid syntax\n"
     ]
    }
   ],
   "source": [
    "def findKthToLastElement(headNode, k):\n",
    "    curNode = headNode\n",
    "    prevNode = headNode\n",
    "    curPos = 0\n",
    "    \n",
    "    while curNode is not None:\n",
    "        curPos++\n",
    "        if curPos == k:\n",
    "            prev\n",
    "        \n",
    "    "
   ]
  },
  {
   "cell_type": "code",
   "execution_count": 126,
   "metadata": {},
   "outputs": [],
   "source": [
    "def isCircular(headNode):\n",
    "    slowNode = headNode\n",
    "    fastNode = headNode\n",
    "    \n",
    "    if fastNode.nextNode == headNode:\n",
    "        return True\n",
    "    while fastNode is not None and fastNode.nextNode is not None:\n",
    "        slowNode = slowNode.nextNode\n",
    "        fastNode = fastNode.nextNode.nextNode\n",
    "        if fastNode == slowNode or fastNode.nextNode == slowNode:\n",
    "            return True\n",
    "    return False"
   ]
  },
  {
   "cell_type": "code",
   "execution_count": 127,
   "metadata": {},
   "outputs": [
    {
     "data": {
      "text/plain": [
       "False"
      ]
     },
     "execution_count": 127,
     "metadata": {},
     "output_type": "execute_result"
    }
   ],
   "source": [
    "isCircular(head4)"
   ]
  },
  {
   "cell_type": "code",
   "execution_count": 128,
   "metadata": {},
   "outputs": [
    {
     "data": {
      "text/plain": [
       "True"
      ]
     },
     "execution_count": 128,
     "metadata": {},
     "output_type": "execute_result"
    }
   ],
   "source": [
    "isCircular(head)"
   ]
  },
  {
   "cell_type": "code",
   "execution_count": 129,
   "metadata": {},
   "outputs": [],
   "source": [
    "node11 = linkedListNode(8)\n",
    "head = node11\n",
    "node11.nextNode = head"
   ]
  },
  {
   "cell_type": "code",
   "execution_count": 130,
   "metadata": {},
   "outputs": [
    {
     "data": {
      "text/plain": [
       "True"
      ]
     },
     "execution_count": 130,
     "metadata": {},
     "output_type": "execute_result"
    }
   ],
   "source": [
    "isCircular(head)"
   ]
  },
  {
   "cell_type": "code",
   "execution_count": 131,
   "metadata": {},
   "outputs": [],
   "source": [
    "node4.nextNode = node2"
   ]
  },
  {
   "cell_type": "code",
   "execution_count": 132,
   "metadata": {},
   "outputs": [],
   "source": [
    "head = node1"
   ]
  },
  {
   "cell_type": "code",
   "execution_count": 133,
   "metadata": {},
   "outputs": [
    {
     "data": {
      "text/plain": [
       "True"
      ]
     },
     "execution_count": 133,
     "metadata": {},
     "output_type": "execute_result"
    }
   ],
   "source": [
    "isCircular(head)"
   ]
  },
  {
   "cell_type": "code",
   "execution_count": 120,
   "metadata": {},
   "outputs": [
    {
     "name": "stdout",
     "output_type": "stream",
     "text": [
      "<__main__.linkedListNode object at 0x7fcff83444a8>\n"
     ]
    }
   ],
   "source": [
    "print(node1.nextNode)"
   ]
  },
  {
   "cell_type": "code",
   "execution_count": 121,
   "metadata": {},
   "outputs": [],
   "source": [
    "node4.nextNode = node2"
   ]
  },
  {
   "cell_type": "code",
   "execution_count": 134,
   "metadata": {},
   "outputs": [
    {
     "data": {
      "text/plain": [
       "False"
      ]
     },
     "execution_count": 134,
     "metadata": {},
     "output_type": "execute_result"
    }
   ],
   "source": [
    "isCircular(head3)"
   ]
  },
  {
   "cell_type": "code",
   "execution_count": 123,
   "metadata": {},
   "outputs": [
    {
     "name": "stdout",
     "output_type": "stream",
     "text": [
      "<__main__.linkedListNode object at 0x7fcff83444a8>\n",
      "<__main__.linkedListNode object at 0x7fcff8344400>\n",
      "<__main__.linkedListNode object at 0x7fcff83443c8>\n",
      "<__main__.linkedListNode object at 0x7fcff83444a8>\n"
     ]
    }
   ],
   "source": [
    "print(node1.nextNode)\n",
    "print(node2.nextNode)\n",
    "print(node3.nextNode)\n",
    "print(node4.nextNode)"
   ]
  },
  {
   "cell_type": "code",
   "execution_count": 285,
   "metadata": {},
   "outputs": [],
   "source": [
    "def sumLists(headList1, headList2):\n",
    "    carryOver = 0\n",
    "    curNodeList1 = headList1 \n",
    "    curNodeList2 = headList2\n",
    "    headListSum = None\n",
    "    \n",
    "    while curNodeList1 is not None and curNodeList2 is not None:\n",
    "        sumUp = curNodeList1.value + curNodeList2.value + carryOver\n",
    "        digit = sumUp % 10\n",
    "        carryOver = sumUp // 10\n",
    "        \n",
    "        headListSum = insertAtTail(headListSum, digit)\n",
    "        print(\"value\", headListSum.value)\n",
    "        print(\"nextNode\", headListSum.nextNode)\n",
    "        curNodeList1 = curNodeList1.nextNode\n",
    "        curNodeList2 = curNodeList2.nextNode\n",
    "    \n",
    "    if carryOver is not 0:\n",
    "        headListSum = insertNode(headListSum, carryOver)\n",
    "        \n",
    "    while curNodeList1 is not None:\n",
    "        headListSum = insertAtTail(headListSum, curNodeList1.value)\n",
    "        curNodeList1 = curNodeList1.nextNode\n",
    "    while curNodeList2 is not None:\n",
    "        headListSum = insertAtTail(headListSum, curNodeList2.value)\n",
    "        curNodeList2 = curNodeList2.nextNode\n",
    "    \n",
    "    printNodes(headListSum)\n",
    "    return headListSum"
   ]
  },
  {
   "cell_type": "code",
   "execution_count": 286,
   "metadata": {},
   "outputs": [],
   "source": [
    "digit1List1 = linkedListNode(7)"
   ]
  },
  {
   "cell_type": "code",
   "execution_count": 287,
   "metadata": {},
   "outputs": [],
   "source": [
    "digit2List1 = linkedListNode(1)"
   ]
  },
  {
   "cell_type": "code",
   "execution_count": 288,
   "metadata": {},
   "outputs": [],
   "source": [
    "digit3List1 = linkedListNode(6)"
   ]
  },
  {
   "cell_type": "code",
   "execution_count": 289,
   "metadata": {},
   "outputs": [],
   "source": [
    "digit1List1.nextNode = digit2List1"
   ]
  },
  {
   "cell_type": "code",
   "execution_count": 290,
   "metadata": {},
   "outputs": [],
   "source": [
    "digit2List1.nextNode = digit3List1"
   ]
  },
  {
   "cell_type": "code",
   "execution_count": 291,
   "metadata": {},
   "outputs": [
    {
     "name": "stdout",
     "output_type": "stream",
     "text": [
      "7\n",
      "->\n",
      "1\n",
      "->\n",
      "6\n",
      "->\n"
     ]
    }
   ],
   "source": [
    "inputList1 = digit1List1\n",
    "printNodes(inputList1)"
   ]
  },
  {
   "cell_type": "code",
   "execution_count": 292,
   "metadata": {},
   "outputs": [],
   "source": [
    "digit1List2 = linkedListNode(5)\n",
    "digit2List2 = linkedListNode(9)\n",
    "digit3List2 = linkedListNode(2)"
   ]
  },
  {
   "cell_type": "code",
   "execution_count": 293,
   "metadata": {},
   "outputs": [
    {
     "name": "stdout",
     "output_type": "stream",
     "text": [
      "5\n",
      "->\n",
      "9\n",
      "->\n",
      "2\n",
      "->\n"
     ]
    }
   ],
   "source": [
    "digit1List2.nextNode = digit2List2\n",
    "digit2List2.nextNode = digit3List2\n",
    "inputList2 = digit1List2\n",
    "printNodes(inputList2)"
   ]
  },
  {
   "cell_type": "code",
   "execution_count": 294,
   "metadata": {},
   "outputs": [
    {
     "name": "stdout",
     "output_type": "stream",
     "text": [
      "new List 2\n",
      "value 2\n",
      "nextNode None\n",
      "2\n",
      "->\n",
      "1\n",
      "->\n",
      "value 2\n",
      "nextNode <__main__.linkedListNode object at 0x7fcff82f54e0>\n",
      "2\n",
      "->\n",
      "1\n",
      "->\n",
      "9\n",
      "->\n",
      "value 2\n",
      "nextNode <__main__.linkedListNode object at 0x7fcff82f54e0>\n",
      "2\n",
      "->\n",
      "1\n",
      "->\n",
      "9\n",
      "->\n"
     ]
    }
   ],
   "source": [
    "outputList = sumLists(inputList1, inputList2)"
   ]
  },
  {
   "cell_type": "code",
   "execution_count": 295,
   "metadata": {},
   "outputs": [
    {
     "name": "stdout",
     "output_type": "stream",
     "text": [
      "2\n",
      "->\n",
      "1\n",
      "->\n",
      "9\n",
      "->\n"
     ]
    }
   ],
   "source": [
    "printNodes(outputList)"
   ]
  },
  {
   "cell_type": "code",
   "execution_count": 296,
   "metadata": {},
   "outputs": [
    {
     "name": "stdout",
     "output_type": "stream",
     "text": [
      "new List 5\n",
      "5\n",
      "->\n",
      "9\n",
      "->\n",
      "5\n",
      "->\n",
      "9\n",
      "->\n",
      "2\n",
      "->\n",
      "5\n",
      "->\n",
      "9\n",
      "->\n",
      "2\n",
      "->\n"
     ]
    }
   ],
   "source": [
    "outputList1 = sumLists(None, inputList2)"
   ]
  },
  {
   "cell_type": "code",
   "execution_count": 297,
   "metadata": {},
   "outputs": [
    {
     "name": "stdout",
     "output_type": "stream",
     "text": [
      "5\n",
      "->\n",
      "9\n",
      "->\n",
      "2\n",
      "->\n"
     ]
    }
   ],
   "source": [
    "printNodes(outputList1)"
   ]
  },
  {
   "cell_type": "code",
   "execution_count": 298,
   "metadata": {},
   "outputs": [
    {
     "name": "stdout",
     "output_type": "stream",
     "text": [
      "new List 7\n",
      "7\n",
      "->\n",
      "1\n",
      "->\n",
      "7\n",
      "->\n",
      "1\n",
      "->\n",
      "6\n",
      "->\n",
      "7\n",
      "->\n",
      "1\n",
      "->\n",
      "6\n",
      "->\n"
     ]
    }
   ],
   "source": [
    "outputList1 = sumLists(inputList1, None)"
   ]
  },
  {
   "cell_type": "code",
   "execution_count": 299,
   "metadata": {},
   "outputs": [
    {
     "name": "stdout",
     "output_type": "stream",
     "text": [
      "7\n",
      "->\n",
      "1\n",
      "->\n",
      "6\n",
      "->\n"
     ]
    }
   ],
   "source": [
    "printNodes(outputList1)"
   ]
  },
  {
   "cell_type": "code",
   "execution_count": 300,
   "metadata": {},
   "outputs": [
    {
     "name": "stdout",
     "output_type": "stream",
     "text": [
      "List is empty\n"
     ]
    }
   ],
   "source": [
    "outputList3 = sumLists(None, None)"
   ]
  },
  {
   "cell_type": "code",
   "execution_count": 301,
   "metadata": {},
   "outputs": [
    {
     "name": "stdout",
     "output_type": "stream",
     "text": [
      "List is empty\n"
     ]
    }
   ],
   "source": [
    "printNodes(outputList3)"
   ]
  },
  {
   "cell_type": "code",
   "execution_count": 316,
   "metadata": {},
   "outputs": [],
   "source": [
    "def sumListRec(headListSum, curNodeList1, curNodeList2, carryOver):\n",
    "    \n",
    "    if curNodeList1 is None or curNodeList2 is None:\n",
    "        while curNodeList1 is not None:\n",
    "            headListSum = insertNode(headListSum, curNodeList1.value)\n",
    "            curNodeList1 = curNodeList1.nextNode\n",
    "        while curNodeList2 is not None:\n",
    "            headListSum = insertNode(headListSum, curNodeList2.value)\n",
    "            curNodeList2 = curNodeList2.nextNode\n",
    "        return headListSum, carryOver\n",
    "    \n",
    "    if curNodeList1.nextNode is None and curNodeList2.nextNode is None:\n",
    "        sum = curNodeList1.value + curNodeList2.value\n",
    "        digit = sum % 10\n",
    "        carryOver = sum // 10\n",
    "        headListSum = insertNode(headListSum, digit)\n",
    "        print(\"value\", headListSum.value)\n",
    "        print(\"nextNode\", headListSum.nextNode)\n",
    "        curNodeList1 = curNodeList1.nextNode\n",
    "        curNodeList2 = curNodeList2.nextNode\n",
    "        return headListSum, carryOver\n",
    "    \n",
    "    headListSum, carryOver = sumListRec(headListSum, curNodeList1.nextNode, curNodeList2.nextNode, carryOver)\n",
    "    \n",
    "    sum = curNodeList1.value + curNodeList2.value + carryOver\n",
    "    digit = sum % 10\n",
    "    carryOver = sum // 10\n",
    "    headListSum = insertNode(headListSum, digit)\n",
    "    print(\"value\", headListSum.value)\n",
    "    print(\"nextNode\", headListSum.nextNode)\n",
    "   \n",
    "    return headListSum, carryOver"
   ]
  },
  {
   "cell_type": "code",
   "execution_count": 308,
   "metadata": {},
   "outputs": [],
   "source": [
    "def sumListReverse(headList1, headList2):\n",
    "    headListSum = None\n",
    "    headListSum, carryOver = sumListRec(headListSum, headList1, headList2, 0)\n",
    "    \n",
    "    if carryOver is not 0:\n",
    "        headListSum = insertNode(headListSum, carryOver)\n",
    "    \n",
    "    printNodes(headListSum)\n",
    "    return headListSum"
   ]
  },
  {
   "cell_type": "code",
   "execution_count": 309,
   "metadata": {},
   "outputs": [
    {
     "name": "stdout",
     "output_type": "stream",
     "text": [
      "List is empty\n"
     ]
    }
   ],
   "source": [
    "outputList = sumListReverse(None, None)"
   ]
  },
  {
   "cell_type": "code",
   "execution_count": 311,
   "metadata": {},
   "outputs": [],
   "source": [
    "revNode1List1 = linkedListNode(6)\n",
    "revNode2List1 = linkedListNode(1)\n",
    "revNode3List1 = linkedListNode(7)\n",
    "revNode1List2 = linkedListNode(2)\n",
    "revNode2List2 = linkedListNode(9)\n",
    "revNode3List2 = linkedListNode(5)"
   ]
  },
  {
   "cell_type": "code",
   "execution_count": 312,
   "metadata": {},
   "outputs": [],
   "source": [
    "revNode1List1.nextNode = revNode2List1\n",
    "revNode2List1.nextNode = revNode3List1\n",
    "revNode1List2.nextNode = revNode2List2\n",
    "revNode2List2.nextNode = revNode3List2"
   ]
  },
  {
   "cell_type": "code",
   "execution_count": 314,
   "metadata": {},
   "outputs": [],
   "source": [
    "inputList1 = revNode1List1\n",
    "inputList2 = revNode1List2"
   ]
  },
  {
   "cell_type": "code",
   "execution_count": 317,
   "metadata": {},
   "outputs": [
    {
     "name": "stdout",
     "output_type": "stream",
     "text": [
      "value 2\n",
      "nextNode None\n",
      "value 1\n",
      "nextNode <__main__.linkedListNode object at 0x7fcff836a390>\n",
      "value 9\n",
      "nextNode <__main__.linkedListNode object at 0x7fcff8344940>\n",
      "9\n",
      "->\n",
      "1\n",
      "->\n",
      "2\n",
      "->\n"
     ]
    }
   ],
   "source": [
    "outputList2 = sumListReverse(inputList1, inputList2)"
   ]
  },
  {
   "cell_type": "code",
   "execution_count": 318,
   "metadata": {},
   "outputs": [],
   "source": [
    "revNode1List1.value = 9"
   ]
  },
  {
   "cell_type": "code",
   "execution_count": 319,
   "metadata": {},
   "outputs": [
    {
     "name": "stdout",
     "output_type": "stream",
     "text": [
      "value 2\n",
      "nextNode None\n",
      "value 1\n",
      "nextNode <__main__.linkedListNode object at 0x7fcff82f52e8>\n",
      "value 2\n",
      "nextNode <__main__.linkedListNode object at 0x7fcff82f50f0>\n",
      "1\n",
      "->\n",
      "2\n",
      "->\n",
      "1\n",
      "->\n",
      "2\n",
      "->\n"
     ]
    }
   ],
   "source": [
    "outputList2 = sumListReverse(inputList1, inputList2)"
   ]
  },
  {
   "cell_type": "code",
   "execution_count": null,
   "metadata": {},
   "outputs": [],
   "source": []
  }
 ],
 "metadata": {
  "kernelspec": {
   "display_name": "Python 3",
   "language": "python",
   "name": "python3"
  },
  "language_info": {
   "codemirror_mode": {
    "name": "ipython",
    "version": 3
   },
   "file_extension": ".py",
   "mimetype": "text/x-python",
   "name": "python",
   "nbconvert_exporter": "python",
   "pygments_lexer": "ipython3",
   "version": "3.6.7"
  }
 },
 "nbformat": 4,
 "nbformat_minor": 2
}
