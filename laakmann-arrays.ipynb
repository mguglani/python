{
 "cells": [
  {
   "cell_type": "markdown",
   "metadata": {},
   "source": [
    "# Check if all characters in the string are unique\n",
    "This functions checks if all characters in a string are non-repeating. Returns True if non-repeating else false. The assumption is all characters are ascii. The below implementation maintains a separate array list which keeps track if a character has been seen before."
   ]
  },
  {
   "cell_type": "code",
   "execution_count": 15,
   "metadata": {},
   "outputs": [],
   "source": [
    "def isUnique(myStr):\n",
    "    containsAlpha = dict() # instead of using lists we can use a dictionary.\n",
    "    \n",
    "    for alpha in myStr:\n",
    "        # index = ord(alpha) - ord('a')\n",
    "        if containsAlpha.get(alpha) == None:\n",
    "            containsAlpha[alpha] = True   \n",
    "        else:\n",
    "            return False\n",
    "            \n",
    "            \n",
    "    return True"
   ]
  },
  {
   "cell_type": "code",
   "execution_count": 16,
   "metadata": {},
   "outputs": [
    {
     "data": {
      "text/plain": [
       "False"
      ]
     },
     "execution_count": 16,
     "metadata": {},
     "output_type": "execute_result"
    }
   ],
   "source": [
    "isUnique(\"bottle\")\n"
   ]
  },
  {
   "cell_type": "code",
   "execution_count": 17,
   "metadata": {},
   "outputs": [
    {
     "data": {
      "text/plain": [
       "True"
      ]
     },
     "execution_count": 17,
     "metadata": {},
     "output_type": "execute_result"
    }
   ],
   "source": [
    "isUnique(\"begin\")"
   ]
  },
  {
   "cell_type": "code",
   "execution_count": 19,
   "metadata": {},
   "outputs": [
    {
     "data": {
      "text/plain": [
       "True"
      ]
     },
     "execution_count": 19,
     "metadata": {},
     "output_type": "execute_result"
    }
   ],
   "source": [
    "isUnique(\"begin98cat\")"
   ]
  },
  {
   "cell_type": "markdown",
   "metadata": {},
   "source": [
    "# Check if all characters of a string are unique - version 2\n",
    "The previous implementation needed additional memory. Solve the problem without using additional memory"
   ]
  },
  {
   "cell_type": "code",
   "execution_count": 21,
   "metadata": {},
   "outputs": [],
   "source": [
    "def isUnique2(myStr):\n",
    "    for prevIndex in range(len(myStr)):\n",
    "        nextIndex = prevIndex+1\n",
    "        while nextIndex < len(myStr):\n",
    "            if myStr[prevIndex] == myStr[nextIndex]:\n",
    "                return False\n",
    "            nextIndex += 1\n",
    "    return True        "
   ]
  },
  {
   "cell_type": "code",
   "execution_count": 22,
   "metadata": {},
   "outputs": [
    {
     "data": {
      "text/plain": [
       "True"
      ]
     },
     "execution_count": 22,
     "metadata": {},
     "output_type": "execute_result"
    }
   ],
   "source": [
    "isUnique2(\"begin\")"
   ]
  },
  {
   "cell_type": "code",
   "execution_count": 23,
   "metadata": {},
   "outputs": [
    {
     "data": {
      "text/plain": [
       "False"
      ]
     },
     "execution_count": 23,
     "metadata": {},
     "output_type": "execute_result"
    }
   ],
   "source": [
    "isUnique2(\"battle\")"
   ]
  },
  {
   "cell_type": "code",
   "execution_count": 24,
   "metadata": {},
   "outputs": [
    {
     "data": {
      "text/plain": [
       "True"
      ]
     },
     "execution_count": 24,
     "metadata": {},
     "output_type": "execute_result"
    }
   ],
   "source": [
    "isUnique2(\"begin cat\")"
   ]
  },
  {
   "cell_type": "code",
   "execution_count": 25,
   "metadata": {},
   "outputs": [],
   "source": [
    "def urlify(inputStr, trueLen):\n",
    "    newIndex=0\n",
    "    replaceStr=\"%20\"\n",
    "    newStr = \"\"\n",
    "    for index in range(trueLen):\n",
    "        if inputStr[index] == \" \":\n",
    "            newStr = newStr + replaceStr\n",
    "            newIndex+=len(replaceStr)\n",
    "            index+=1\n",
    "        else:\n",
    "            newStr = newStr+inputStr[index]\n",
    "            index+=1\n",
    "            newIndex+=1\n",
    "           \n",
    "    print(newStr)"
   ]
  },
  {
   "cell_type": "code",
   "execution_count": 26,
   "metadata": {},
   "outputs": [
    {
     "name": "stdout",
     "output_type": "stream",
     "text": [
      "Mr%20John%20Smith\n"
     ]
    }
   ],
   "source": [
    "urlify(\"Mr John Smith    \", 13)"
   ]
  },
  {
   "cell_type": "code",
   "execution_count": 27,
   "metadata": {},
   "outputs": [],
   "source": [
    "input = \"Mr John Smith\""
   ]
  },
  {
   "cell_type": "code",
   "execution_count": 28,
   "metadata": {},
   "outputs": [
    {
     "data": {
      "text/plain": [
       "'Mr%20John%20Smith'"
      ]
     },
     "execution_count": 28,
     "metadata": {},
     "output_type": "execute_result"
    }
   ],
   "source": [
    "input.replace(\" \", \"%20\")\n"
   ]
  },
  {
   "cell_type": "markdown",
   "metadata": {},
   "source": [
    "# Check if two strings are one away\n",
    "given two strings check if they differ by only one character. Current code failed the test case where last character is more than one apart."
   ]
  },
  {
   "cell_type": "code",
   "execution_count": 30,
   "metadata": {},
   "outputs": [],
   "source": [
    "def oneAway (string1, string2) :\n",
    "    oneEdit = False\n",
    "    string1Len = len(string1)\n",
    "    string2Len = len(string2)\n",
    "    i = 0\n",
    "    \n",
    "    if string1 == string2:\n",
    "        return True\n",
    "    \n",
    "    if string1Len != string2Len and string1Len != string2Len - 1 and string1Len != string2Len + 1:\n",
    "        print(\"length mismatch more than one \", string1Len, string2Len)\n",
    "        return False\n",
    "     \n",
    "    for char in string1:\n",
    "        print(i)\n",
    "        if char != string2[i]:\n",
    "            if oneEdit == True:\n",
    "                return False\n",
    "            else:\n",
    "                oneEdit = True\n",
    "        else:\n",
    "            i +=1\n",
    "            if i == string2Len:\n",
    "                break\n",
    "                \n",
    "    return True"
   ]
  },
  {
   "cell_type": "code",
   "execution_count": 31,
   "metadata": {},
   "outputs": [
    {
     "name": "stdout",
     "output_type": "stream",
     "text": [
      "0\n",
      "1\n",
      "1\n",
      "2\n"
     ]
    },
    {
     "data": {
      "text/plain": [
       "True"
      ]
     },
     "execution_count": 31,
     "metadata": {},
     "output_type": "execute_result"
    }
   ],
   "source": [
    "oneAway(\"pale\", \"ple\")"
   ]
  },
  {
   "cell_type": "code",
   "execution_count": 32,
   "metadata": {},
   "outputs": [
    {
     "name": "stdout",
     "output_type": "stream",
     "text": [
      "0\n",
      "1\n",
      "2\n",
      "3\n"
     ]
    },
    {
     "data": {
      "text/plain": [
       "True"
      ]
     },
     "execution_count": 32,
     "metadata": {},
     "output_type": "execute_result"
    }
   ],
   "source": [
    "oneAway(\"pales\", \"pale\")"
   ]
  },
  {
   "cell_type": "code",
   "execution_count": 33,
   "metadata": {},
   "outputs": [
    {
     "name": "stdout",
     "output_type": "stream",
     "text": [
      "0\n",
      "0\n"
     ]
    },
    {
     "data": {
      "text/plain": [
       "False"
      ]
     },
     "execution_count": 33,
     "metadata": {},
     "output_type": "execute_result"
    }
   ],
   "source": [
    "oneAway(\"pale\", \"bale\")"
   ]
  },
  {
   "cell_type": "code",
   "execution_count": 36,
   "metadata": {},
   "outputs": [
    {
     "name": "stdout",
     "output_type": "stream",
     "text": [
      "0\n",
      "1\n",
      "2\n",
      "2\n"
     ]
    },
    {
     "data": {
      "text/plain": [
       "False"
      ]
     },
     "execution_count": 36,
     "metadata": {},
     "output_type": "execute_result"
    }
   ],
   "source": [
    "oneAway(\"people\",\"peeple\")"
   ]
  },
  {
   "cell_type": "code",
   "execution_count": 34,
   "metadata": {},
   "outputs": [
    {
     "name": "stdout",
     "output_type": "stream",
     "text": [
      "0\n",
      "0\n"
     ]
    },
    {
     "data": {
      "text/plain": [
       "False"
      ]
     },
     "execution_count": 34,
     "metadata": {},
     "output_type": "execute_result"
    }
   ],
   "source": [
    "oneAway(\"pale\", \"bake\")"
   ]
  },
  {
   "cell_type": "code",
   "execution_count": 60,
   "metadata": {},
   "outputs": [],
   "source": [
    "def stringCompress(inputString):\n",
    "    outputString = \"\"\n",
    "    nextIndex = 0\n",
    "    charCount = 1\n",
    "    inputLen = len(inputString)\n",
    "    \n",
    "    if inputLen == 0:\n",
    "        return inputString\n",
    "    \n",
    "    repeatChar = inputString[0]\n",
    "    \n",
    "    while nextIndex < inputLen:\n",
    "        repeatChar = inputString[nextIndex]\n",
    "        nextIndex+=1\n",
    "        while nextIndex < inputLen and inputString[nextIndex] == repeatChar:\n",
    "            charCount +=1\n",
    "            nextIndex +=1\n",
    "        outputString += repeatChar\n",
    "        outputString += str(charCount)\n",
    "        if nextIndex < inputLen:\n",
    "            charCount = 1\n",
    "            repeatChar = inputString[nextIndex]\n",
    "        \n",
    "    # print(outputString)\n",
    "    \n",
    "    if len(outputString) >= inputLen:\n",
    "        return inputString\n",
    "    else:\n",
    "        return outputString"
   ]
  },
  {
   "cell_type": "code",
   "execution_count": 61,
   "metadata": {},
   "outputs": [
    {
     "data": {
      "text/plain": [
       "0"
      ]
     },
     "execution_count": 61,
     "metadata": {},
     "output_type": "execute_result"
    }
   ],
   "source": [
    "nullStr = \"\"\n",
    "len(nullStr)"
   ]
  },
  {
   "cell_type": "code",
   "execution_count": 62,
   "metadata": {},
   "outputs": [
    {
     "data": {
      "text/plain": [
       "'a2b1c5a3'"
      ]
     },
     "execution_count": 62,
     "metadata": {},
     "output_type": "execute_result"
    }
   ],
   "source": [
    "stringCompress(\"aabcccccaaa\")"
   ]
  },
  {
   "cell_type": "code",
   "execution_count": 59,
   "metadata": {},
   "outputs": [],
   "source": [
    "a = 5\n"
   ]
  },
  {
   "cell_type": "code",
   "execution_count": null,
   "metadata": {},
   "outputs": [],
   "source": []
  }
 ],
 "metadata": {
  "kernelspec": {
   "display_name": "Python 3",
   "language": "python",
   "name": "python3"
  },
  "language_info": {
   "codemirror_mode": {
    "name": "ipython",
    "version": 3
   },
   "file_extension": ".py",
   "mimetype": "text/x-python",
   "name": "python",
   "nbconvert_exporter": "python",
   "pygments_lexer": "ipython3",
   "version": "3.6.7"
  }
 },
 "nbformat": 4,
 "nbformat_minor": 2
}
